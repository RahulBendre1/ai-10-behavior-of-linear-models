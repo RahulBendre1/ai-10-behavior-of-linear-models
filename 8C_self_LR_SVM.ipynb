{
 "cells": [
  {
   "cell_type": "code",
   "execution_count": 14,
   "metadata": {},
   "outputs": [],
   "source": [
    "import numpy as np"
   ]
  },
  {
   "cell_type": "code",
   "execution_count": 15,
   "metadata": {},
   "outputs": [],
   "source": [
    "import matplotlib.pyplot as plt\n",
    "%matplotlib inline"
   ]
  },
  {
   "cell_type": "code",
   "execution_count": 16,
   "metadata": {},
   "outputs": [],
   "source": [
    "import scipy as sp\n",
    "import scipy.optimize"
   ]
  },
  {
   "cell_type": "code",
   "execution_count": 17,
   "metadata": {},
   "outputs": [],
   "source": [
    "def angles_in_ellipse(num, a, b):\n",
    "    \n",
    "    angles = 2 * np.pi * np.divide(np.arange(num), num)\n",
    "    \n",
    "    if a != b:\n",
    "\n",
    "        a__div__b = np.divide(a, b)\n",
    "        a__div__b__square = np.square(a__div__b)\n",
    "\n",
    "        e = 1 - np.sqrt((1 - a__div__b__square))\n",
    "\n",
    "        tot_size = sp.special.ellipeinc(2 * np.pi, e)\n",
    "        arc_size = np.divide(tot_size, num)\n",
    "\n",
    "        arcs = np.arange(num) * arc_size\n",
    "\n",
    "        res = sp.optimize.root(\n",
    "                lambda x: (sp.special.ellipeinc(x, e) - arcs), angles\n",
    "                )\n",
    "\n",
    "        angles = res.x\n",
    "\n",
    "    return angles"
   ]
  },
  {
   "cell_type": "code",
   "execution_count": 18,
   "metadata": {},
   "outputs": [
    {
     "name": "stdout",
     "output_type": "stream",
     "text": [
      "[0.         0.62531573 1.25476467 1.88682799 2.51627693 3.14159265\n",
      " 3.76690838 4.39635732 5.02842064 5.65786958]\n"
     ]
    }
   ],
   "source": [
    "num, a, b = 10, 2, 9\n",
    "angles = angles_in_ellipse(num, a, b)\n",
    "print(angles)"
   ]
  },
  {
   "cell_type": "code",
   "execution_count": 19,
   "metadata": {},
   "outputs": [],
   "source": [
    "X = a * np.cos(angles)\n",
    "Y = a * np.sin(angles)"
   ]
  },
  {
   "cell_type": "code",
   "execution_count": 20,
   "metadata": {},
   "outputs": [
    {
     "data": {
      "text/plain": [
       "array([ 2.        ,  1.62155669,  0.62159441, -0.62159441, -1.62155669,\n",
       "       -2.        , -1.62155669, -0.62159441,  0.62159441,  1.62155669])"
      ]
     },
     "execution_count": 20,
     "metadata": {},
     "output_type": "execute_result"
    }
   ],
   "source": [
    "X"
   ]
  }
 ],
 "metadata": {
  "kernelspec": {
   "display_name": "Python 3",
   "language": "python",
   "name": "python3"
  },
  "language_info": {
   "codemirror_mode": {
    "name": "ipython",
    "version": 3
   },
   "file_extension": ".py",
   "mimetype": "text/x-python",
   "name": "python",
   "nbconvert_exporter": "python",
   "pygments_lexer": "ipython3",
   "version": "3.7.0"
  }
 },
 "nbformat": 4,
 "nbformat_minor": 2
}
