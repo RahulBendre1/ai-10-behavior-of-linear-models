{
 "cells": [
  {
   "cell_type": "code",
   "execution_count": 14,
   "metadata": {},
   "outputs": [],
   "source": [
    "import warnings\n",
    "warnings.filterwarnings('ignore')"
   ]
  },
  {
   "cell_type": "code",
   "execution_count": 15,
   "metadata": {},
   "outputs": [],
   "source": [
    "import numpy as np"
   ]
  },
  {
   "cell_type": "code",
   "execution_count": 16,
   "metadata": {},
   "outputs": [],
   "source": [
    "import matplotlib.pyplot as plt\n",
    "%matplotlib inline"
   ]
  },
  {
   "cell_type": "code",
   "execution_count": 17,
   "metadata": {},
   "outputs": [],
   "source": [
    "import scipy as sp\n",
    "import scipy.optimize"
   ]
  },
  {
   "cell_type": "code",
   "execution_count": 18,
   "metadata": {},
   "outputs": [],
   "source": [
    "from sklearn.linear_model import SGDRegressor"
   ]
  },
  {
   "cell_type": "code",
   "execution_count": 19,
   "metadata": {},
   "outputs": [],
   "source": [
    "def angles_in_ellipse(num, a, b):\n",
    "    \n",
    "    angles = 2 * np.pi * np.divide(np.arange(num), num)\n",
    "    \n",
    "    if a != b:\n",
    "\n",
    "        a__div__b = np.divide(a, b)\n",
    "        a__div__b__square = np.square(a__div__b)\n",
    "\n",
    "        e = 1 - np.sqrt((1 - a__div__b__square))\n",
    "\n",
    "        tot_size = sp.special.ellipeinc(2 * np.pi, e)\n",
    "        arc_size = np.divide(tot_size, num)\n",
    "\n",
    "        arcs = np.arange(num) * arc_size\n",
    "\n",
    "        res = sp.optimize.root(\n",
    "                lambda x: (sp.special.ellipeinc(x, e) - arcs), angles\n",
    "                )\n",
    "\n",
    "        angles = res.x\n",
    "\n",
    "    return angles"
   ]
  },
  {
   "cell_type": "code",
   "execution_count": 20,
   "metadata": {},
   "outputs": [
    {
     "name": "stdout",
     "output_type": "stream",
     "text": [
      "[0.         0.12488255 0.2498131  0.37483688 0.49999375 0.62531573\n",
      " 0.75082501 0.87653234 1.00243613 1.12852225 1.25476467 1.38112697\n",
      " 1.50756464 1.63402802 1.76046569 1.88682799 2.0130704  2.13915652\n",
      " 2.26506031 2.39076765 2.51627693 2.64159891 2.76675577 2.89177955\n",
      " 3.0167101  3.14159265 3.26647521 3.39140575 3.51642954 3.6415864\n",
      " 3.76690838 3.89241766 4.018125   4.14402879 4.2701149  4.39635732\n",
      " 4.52271962 4.64915729 4.77562067 4.90205834 5.02842064 5.15466306\n",
      " 5.28074917 5.40665297 5.5323603  5.65786958 5.78319156 5.90834842\n",
      " 6.03337221 6.15830275]\n"
     ]
    }
   ],
   "source": [
    "num, a, b = 50, 2, 9\n",
    "angles = angles_in_ellipse(num, a, b)\n",
    "print(angles)"
   ]
  },
  {
   "cell_type": "code",
   "execution_count": 21,
   "metadata": {},
   "outputs": [],
   "source": [
    "X = a * np.cos(angles)\n",
    "Y = b * np.sin(angles)"
   ]
  },
  {
   "cell_type": "code",
   "execution_count": 22,
   "metadata": {},
   "outputs": [
    {
     "data": {
      "text/plain": [
       "<matplotlib.collections.PathCollection at 0x17d7a6cdc50>"
      ]
     },
     "execution_count": 22,
     "metadata": {},
     "output_type": "execute_result"
    },
    {
     "data": {
      "image/png": "[encoded data removed]",
      "text/plain": [
       "<Figure size 432x288 with 1 Axes>"
      ]
     },
     "metadata": {
      "needs_background": "light"
     },
     "output_type": "display_data"
    }
   ],
   "source": [
    "fig = plt.figure()\n",
    "ax = fig.gca()\n",
    "ax.axes.set_aspect('equal')\n",
    "ax.scatter(Y, X)"
   ]
  },
  {
   "cell_type": "markdown",
   "metadata": {},
   "source": [
    "<pre>\n",
    "<font face='georgia'>\n",
    "<i>\n",
    "1. As a part of this assignment you will be working the regression problem and how regularization helps to get rid of outliers\n",
    "\n",
    "2. Use the above created X, Y for this experiment.\n",
    "\n",
    "3. to do this task you can either implement your own SGDRegression(prefered) excatly similar to \"SGD assignment\" with mean sequared error or \n",
    "you can use the SGDRegression of sklearn, for example \"SGDRegressor(alpha=0.001, eta0=0.001, learning_rate='constant',random_state=0)\" \n",
    "note that you have to use the constant learning rate and learning rate <b>eta0</b> initialized.\n",
    "\n",
    "4. as a part of this experiment you will train your linear regression on the data (X, Y) with different regularizations alpha=[0.0001, 1, 100] and \n",
    "observe how prediction hyper plan moves with respect to the outliers\n",
    "\n",
    "5. This the results of one of the experiment we did (title of the plot was not metioned intentionally) \n",
    "<img src='https://i.imgur.com/FctjBiD.png'> \n",
    "in each iteration we were adding single outlier and observed the movement of the hyper plane.\n",
    "\n",
    "6. please consider this list of outliers: [(0,2),(21, 13), (-23, -15), (22,14), (23, 14)] in each of tuple the first elemet \n",
    "is the input feature(X) and the second element is the output(Y)\n",
    "\n",
    "7. for each regularizer, you need to add these outliers one at time to data and then train your model \n",
    "again on the updated data. \n",
    "\n",
    "8. you should plot a 3*5 grid of subplots,\n",
    " where each row corresponds to results of model with a single regularizer.\n",
    "\n",
    "9. Algorithm: \n",
    "\n",
    "for each regularizer:\n",
    "    for each outlier:\n",
    "        #add the outlier to the data\n",
    "        #fit the linear regression to the updated data\n",
    "        #get the hyper plane\n",
    "        #plot the hyperplane along with the data points\n",
    "\n",
    "10. MAKE SURE YOU WRITE THE DETAILED OBSERVATIONS, PLEASE CHECK THE LOSS FUNCTION IN THE SKLEARN DOCUMENTATION\n",
    " (please do search for it).\n",
    "</i>\n",
    "</font>\n",
    "</pre>"
   ]
  },
  {
   "cell_type": "code",
   "execution_count": 29,
   "metadata": {},
   "outputs": [
    {
     "name": "stdout",
     "output_type": "stream",
     "text": [
      "[1.e-04 1.e+00 1.e+02]\n"
     ]
    }
   ],
   "source": [
    "params = dict({'alpha': [0.0001, 1, 100]})\n",
    "print(alpha_ref)"
   ]
  },
  {
   "cell_type": "code",
   "execution_count": 30,
   "metadata": {},
   "outputs": [],
   "source": [
    "sgd_reg = SGDRegressor(loss = 'squared_loss', penalty = 'l2', random_state = 0)"
   ]
  },
  {
   "cell_type": "code",
   "execution_count": 31,
   "metadata": {},
   "outputs": [
    {
     "name": "stdout",
     "output_type": "stream",
     "text": [
      "0.0001\n",
      "1\n",
      "100\n"
     ]
    }
   ],
   "source": [
    "for name, alphas in params.items():\n",
    "    \n",
    "    for alpha in alphas:\n",
    "        print(alpha)\n",
    "    "
   ]
  },
  {
   "cell_type": "code",
   "execution_count": null,
   "metadata": {},
   "outputs": [],
   "source": []
  },
  {
   "cell_type": "code",
   "execution_count": null,
   "metadata": {},
   "outputs": [],
   "source": []
  },
  {
   "cell_type": "code",
   "execution_count": null,
   "metadata": {},
   "outputs": [],
   "source": []
  },
  {
   "cell_type": "code",
   "execution_count": null,
   "metadata": {},
   "outputs": [],
   "source": []
  },
  {
   "cell_type": "code",
   "execution_count": null,
   "metadata": {},
   "outputs": [],
   "source": []
  },
  {
   "cell_type": "code",
   "execution_count": null,
   "metadata": {},
   "outputs": [],
   "source": []
  },
  {
   "cell_type": "code",
   "execution_count": null,
   "metadata": {},
   "outputs": [],
   "source": []
  },
  {
   "cell_type": "code",
   "execution_count": null,
   "metadata": {},
   "outputs": [],
   "source": []
  },
  {
   "cell_type": "code",
   "execution_count": null,
   "metadata": {},
   "outputs": [],
   "source": []
  },
  {
   "cell_type": "code",
   "execution_count": null,
   "metadata": {},
   "outputs": [],
   "source": []
  },
  {
   "cell_type": "code",
   "execution_count": null,
   "metadata": {},
   "outputs": [],
   "source": []
  },
  {
   "cell_type": "code",
   "execution_count": null,
   "metadata": {},
   "outputs": [],
   "source": []
  },
  {
   "cell_type": "code",
   "execution_count": null,
   "metadata": {},
   "outputs": [],
   "source": []
  },
  {
   "cell_type": "code",
   "execution_count": null,
   "metadata": {},
   "outputs": [],
   "source": []
  },
  {
   "cell_type": "code",
   "execution_count": null,
   "metadata": {},
   "outputs": [],
   "source": []
  },
  {
   "cell_type": "code",
   "execution_count": null,
   "metadata": {},
   "outputs": [],
   "source": []
  },
  {
   "cell_type": "code",
   "execution_count": null,
   "metadata": {},
   "outputs": [],
   "source": []
  },
  {
   "cell_type": "code",
   "execution_count": null,
   "metadata": {},
   "outputs": [],
   "source": []
  },
  {
   "cell_type": "code",
   "execution_count": null,
   "metadata": {},
   "outputs": [],
   "source": []
  },
  {
   "cell_type": "code",
   "execution_count": null,
   "metadata": {},
   "outputs": [],
   "source": []
  }
 ],
 "metadata": {
  "kernelspec": {
   "display_name": "Python 3",
   "language": "python",
   "name": "python3"
  },
  "language_info": {
   "codemirror_mode": {
    "name": "ipython",
    "version": 3
   },
   "file_extension": ".py",
   "mimetype": "text/x-python",
   "name": "python",
   "nbconvert_exporter": "python",
   "pygments_lexer": "ipython3",
   "version": "3.7.0"
  }
 },
 "nbformat": 4,
 "nbformat_minor": 2
}
