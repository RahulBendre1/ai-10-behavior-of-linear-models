{
 "cells": [
  {
   "cell_type": "code",
   "execution_count": 1,
   "metadata": {},
   "outputs": [],
   "source": [
    "import pandas as pd\n",
    "import numpy as np"
   ]
  },
  {
   "cell_type": "code",
   "execution_count": 10,
   "metadata": {},
   "outputs": [],
   "source": [
    "from sklearn.linear_model import LogisticRegression\n",
    "from sklearn import linear_model"
   ]
  },
  {
   "cell_type": "code",
   "execution_count": 3,
   "metadata": {},
   "outputs": [],
   "source": [
    "from sklearn.preprocessing import StandardScaler, MinMaxScaler"
   ]
  },
  {
   "cell_type": "code",
   "execution_count": 4,
   "metadata": {},
   "outputs": [],
   "source": [
    "def _print(statement, arguments, do_print = True):\n",
    "    \n",
    "    if do_print:\n",
    "        print(statement.format(*arguments))\n",
    "    \n",
    "    return"
   ]
  },
  {
   "cell_type": "code",
   "execution_count": 5,
   "metadata": {},
   "outputs": [],
   "source": [
    "def print_lb(character, num = 60):\n",
    "\n",
    "    print(character*num)\n",
    "    \n",
    "    return"
   ]
  },
  {
   "cell_type": "code",
   "execution_count": 6,
   "metadata": {},
   "outputs": [
    {
     "name": "stdout",
     "output_type": "stream",
     "text": [
      "Top 3 rows of DataFrame : \n",
      "\n",
      "   index           f1            f2        f3    y\n",
      "0      0  -195.871045 -14843.084171  5.532140  1.0\n",
      "1      1 -1217.183964  -4068.124621  4.416082  1.0\n",
      "2      2     9.138451   4413.412028  0.425317  0.0\n"
     ]
    }
   ],
   "source": [
    "data = pd.read_csv('task_b.csv')\n",
    "_print(\"Top {} rows of DataFrame : \\n\\n{}\", [3, data.head(n = 3)])"
   ]
  },
  {
   "cell_type": "code",
   "execution_count": 7,
   "metadata": {},
   "outputs": [
    {
     "name": "stdout",
     "output_type": "stream",
     "text": [
      "          index        f1        f2        f3         y\n",
      "index  1.000000  0.178685  0.149585 -0.017404 -0.014203\n",
      "f1     0.178685  1.000000  0.065468  0.123589  0.067172\n",
      "f2     0.149585  0.065468  1.000000 -0.055561 -0.017944\n",
      "f3    -0.017404  0.123589 -0.055561  1.000000  0.839060\n",
      "y     -0.014203  0.067172 -0.017944  0.839060  1.000000\n"
     ]
    }
   ],
   "source": [
    "data_corr = data.corr()\n",
    "print(data_corr)"
   ]
  },
  {
   "cell_type": "code",
   "execution_count": 8,
   "metadata": {},
   "outputs": [
    {
     "name": "stdout",
     "output_type": "stream",
     "text": [
      "index       57.879185\n",
      "f1         488.195035\n",
      "f2       10403.417325\n",
      "f3           2.926662\n",
      "y            0.501255\n",
      "dtype: float64\n"
     ]
    }
   ],
   "source": [
    "data_std = data.std()\n",
    "print(data_std)"
   ]
  },
  {
   "cell_type": "markdown",
   "metadata": {},
   "source": [
    "# What if our features are with different variance \n",
    "\n",
    "<pre>\n",
    "* <b>As part of this task you will observe how linear models work in case of data having feautres with different variance</b>\n",
    "* <b>from the output of the above cells you can observe that var(F2)>>var(F1)>>Var(F3)</b>\n",
    "\n",
    "> <b>Task1</b>:\n",
    "    1. Apply Logistic regression(SGDClassifier with logloss) on 'data' and check the feature importance\n",
    "    2. Apply SVM(SGDClassifier with hinge) on 'data' and check the feature importance\n",
    "\n",
    "> <b>Task2</b>:\n",
    "    1. Apply Logistic regression(SGDClassifier with logloss) on 'data' after standardization \n",
    "       i.e standardization(data, column wise): (column-mean(column))/std(column) and check the feature importance\n",
    "    2. Apply SVM(SGDClassifier with hinge) on 'data' after standardization \n",
    "       i.e standardization(data, column wise): (column-mean(column))/std(column) and check the feature importance\n",
    "\n",
    "</pre>"
   ]
  },
  {
   "cell_type": "code",
   "execution_count": 13,
   "metadata": {},
   "outputs": [],
   "source": [
    "clsfr = linear_model.SGDClassifier(loss='log', eta0 = 0.0001, alpha = 0.0001, penalty = 'l2', random_state = 15, verbose = 2, n_jobs = -1 )"
   ]
  },
  {
   "cell_type": "code",
   "execution_count": 33,
   "metadata": {},
   "outputs": [
    {
     "name": "stdout",
     "output_type": "stream",
     "text": [
      "1. Data Type of d_train: <class 'numpy.ndarray'>\n",
      "2. Shape of d_train: (200, 3)\n",
      "\n",
      "\n",
      "1. Data Type of y: <class 'numpy.ndarray'>\n",
      "2. Shape of y: \n"
     ]
    }
   ],
   "source": [
    "d_train = data[['f1', 'f2', 'f3']].values\n",
    "_print(\"1. Data Type of d_train: {}\", [type(d_train)])\n",
    "_print(\"2. Shape of d_train: {}\\n\\n\", [d_train.shape])\n",
    "\n",
    "y = data[['y']].values\n",
    "_print(\"1. Data Type of y: {}\", [type(y)])\n",
    "_print(\"2. Shape of y: \", [y.shape])"
   ]
  },
  {
   "cell_type": "code",
   "execution_count": 30,
   "metadata": {},
   "outputs": [],
   "source": [
    "\"\"\"\n",
    "Let's reshape y dimension from 2-D array to vector\n",
    "\"\"\"\n",
    "y = y.reshape(-1)"
   ]
  },
  {
   "cell_type": "code",
   "execution_count": null,
   "metadata": {},
   "outputs": [],
   "source": [
    "clsfr.fit(d_train, y)"
   ]
  },
  {
   "cell_type": "code",
   "execution_count": 25,
   "metadata": {},
   "outputs": [
    {
     "data": {
      "text/plain": [
       "array([[  3925.14601273, -16033.05764291,  10502.94022174]])"
      ]
     },
     "execution_count": 25,
     "metadata": {},
     "output_type": "execute_result"
    }
   ],
   "source": [
    "clsfr.coef_"
   ]
  },
  {
   "cell_type": "code",
   "execution_count": 26,
   "metadata": {},
   "outputs": [
    {
     "data": {
      "text/plain": [
       "array([-239.12473731])"
      ]
     },
     "execution_count": 26,
     "metadata": {},
     "output_type": "execute_result"
    }
   ],
   "source": [
    "clsfr.intercept_"
   ]
  }
 ],
 "metadata": {
  "kernelspec": {
   "display_name": "Python 3",
   "language": "python",
   "name": "python3"
  },
  "language_info": {
   "codemirror_mode": {
    "name": "ipython",
    "version": 3
   },
   "file_extension": ".py",
   "mimetype": "text/x-python",
   "name": "python",
   "nbconvert_exporter": "python",
   "pygments_lexer": "ipython3",
   "version": "3.7.0"
  }
 },
 "nbformat": 4,
 "nbformat_minor": 2
}
