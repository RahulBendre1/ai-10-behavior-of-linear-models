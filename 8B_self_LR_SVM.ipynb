{
 "cells": [
  {
   "cell_type": "code",
   "execution_count": 9,
   "metadata": {},
   "outputs": [],
   "source": [
    "import pandas as pd\n",
    "import numpy as np"
   ]
  },
  {
   "cell_type": "code",
   "execution_count": 10,
   "metadata": {},
   "outputs": [],
   "source": [
    "from sklearn.linear_model import LogisticRegression"
   ]
  },
  {
   "cell_type": "code",
   "execution_count": 11,
   "metadata": {},
   "outputs": [],
   "source": [
    "from sklearn.preprocessing import StandardScaler, MinMaxScaler"
   ]
  },
  {
   "cell_type": "code",
   "execution_count": 12,
   "metadata": {},
   "outputs": [],
   "source": [
    "def _print(statement, arguments, do_print = True):\n",
    "    \n",
    "    if do_print:\n",
    "        print(statement.format(*arguments))\n",
    "    \n",
    "    return"
   ]
  },
  {
   "cell_type": "code",
   "execution_count": 13,
   "metadata": {},
   "outputs": [],
   "source": [
    "def print_lb(character, num = 60):\n",
    "\n",
    "    print(character*num)\n",
    "    \n",
    "    return"
   ]
  },
  {
   "cell_type": "code",
   "execution_count": 18,
   "metadata": {},
   "outputs": [
    {
     "name": "stdout",
     "output_type": "stream",
     "text": [
      "Top 3 rows of DataFrame : \n",
      "\n",
      "   index           f1            f2        f3    y\n",
      "0      0  -195.871045 -14843.084171  5.532140  1.0\n",
      "1      1 -1217.183964  -4068.124621  4.416082  1.0\n",
      "2      2     9.138451   4413.412028  0.425317  0.0\n"
     ]
    }
   ],
   "source": [
    "data = pd.read_csv('task_b.csv')\n",
    "_print(\"Top {} rows of DataFrame : \\n\\n{}\", [3, data.head(n = 3)])"
   ]
  },
  {
   "cell_type": "code",
   "execution_count": 19,
   "metadata": {},
   "outputs": [
    {
     "name": "stdout",
     "output_type": "stream",
     "text": [
      "          index        f1        f2        f3         y\n",
      "index  1.000000  0.178685  0.149585 -0.017404 -0.014203\n",
      "f1     0.178685  1.000000  0.065468  0.123589  0.067172\n",
      "f2     0.149585  0.065468  1.000000 -0.055561 -0.017944\n",
      "f3    -0.017404  0.123589 -0.055561  1.000000  0.839060\n",
      "y     -0.014203  0.067172 -0.017944  0.839060  1.000000\n"
     ]
    }
   ],
   "source": [
    "data_corr = data.corr()\n",
    "print(data_corr)"
   ]
  },
  {
   "cell_type": "code",
   "execution_count": 20,
   "metadata": {},
   "outputs": [
    {
     "name": "stdout",
     "output_type": "stream",
     "text": [
      "index       57.879185\n",
      "f1         488.195035\n",
      "f2       10403.417325\n",
      "f3           2.926662\n",
      "y            0.501255\n",
      "dtype: float64\n"
     ]
    }
   ],
   "source": [
    "data_std = data.std()\n",
    "print(data_std)"
   ]
  }
 ],
 "metadata": {
  "kernelspec": {
   "display_name": "Python 3",
   "language": "python",
   "name": "python3"
  },
  "language_info": {
   "codemirror_mode": {
    "name": "ipython",
    "version": 3
   },
   "file_extension": ".py",
   "mimetype": "text/x-python",
   "name": "python",
   "nbconvert_exporter": "python",
   "pygments_lexer": "ipython3",
   "version": "3.7.0"
  }
 },
 "nbformat": 4,
 "nbformat_minor": 2
}
